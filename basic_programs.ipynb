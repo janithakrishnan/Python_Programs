{
 "cells": [
  {
   "cell_type": "code",
   "execution_count": 4,
   "id": "85fb738e",
   "metadata": {},
   "outputs": [
    {
     "name": "stdout",
     "output_type": "stream",
     "text": [
      "your age is:  23\n",
      "\n",
      "\tStudent1 \t NIELIT\n"
     ]
    }
   ],
   "source": [
    "#ASSIGNMENT:1 QUESTION:1\n",
    "\n",
    "#Program to calcualate the age of a person using birth year as input from user.\n",
    "#Print personal details using formatted print(fstring)\n",
    "\n",
    "year_of_birth=int(input(\"Enter your birth year:\"))\n",
    "print(\"your age is: \",2025-year_of_birth)\n",
    "personal_details=print(\"\\n\\tStudent1 \\t NIELIT\")"
   ]
  },
  {
   "cell_type": "code",
   "execution_count": 13,
   "id": "0f98a589",
   "metadata": {},
   "outputs": [
    {
     "name": "stdout",
     "output_type": "stream",
     "text": [
      "Already has permission or license\n"
     ]
    }
   ],
   "source": [
    "#ASSIGNMENT:1 QUESTION:2\n",
    "\n",
    "#Program to check eligibility for a driving license ask user for age,\n",
    "#has_permission, has_license, print if he is elgibible for liscense\n",
    "#or already has one\n",
    "\n",
    "age=int(input(\"Enter your age:\"))\n",
    "if(age<18):\n",
    "    print(\"Not eligible\")\n",
    "else:\n",
    "    x=1\n",
    "    while x:\n",
    "        has_permission=input(\"Do you have permission? Yes/No:\")\n",
    "        if (has_permission.lower()!='yes' and has_permission.lower()!='no'):\n",
    "            print(\"Permission Invalid input!!!\")\n",
    "        else:\n",
    "            break\n",
    "    while x:\n",
    "        has_license=input(\"Do you have license? Yes/No:\")\n",
    "        if (has_license.lower()!='yes' and has_license.lower()!='no'):\n",
    "            print(\"Invalid input!!!\")\n",
    "        else:\n",
    "            break\n",
    "    if (has_permission.lower()=='yes' or has_license.lower()=='yes'):\n",
    "        print(\"Already has permission or license\")\n",
    "\n",
    "    else:\n",
    "        print(\"eligible for license\")"
   ]
  },
  {
   "cell_type": "code",
   "execution_count": null,
   "id": "61aac6c2",
   "metadata": {},
   "outputs": [],
   "source": [
    "#ASSIGNMENT:1 QUESTION:3\n",
    "\n",
    "# Program to calculate the area of a circle with radius as input\n",
    "\n",
    "for num in range(10,2,-2):\n",
    "    radius=int(input(\"Enter the radius:\"))\n",
    "    print(\"Area=\",3.14*radius*radius)\n",
    "    print('num=',num)    "
   ]
  },
  {
   "cell_type": "code",
   "execution_count": null,
   "id": "a366b33a",
   "metadata": {},
   "outputs": [
    {
     "name": "stdout",
     "output_type": "stream",
     "text": [
      "2\n",
      "3\n",
      "5\n",
      "7\n",
      "11\n",
      "13\n",
      "17\n",
      "19\n",
      "23\n",
      "29\n",
      "31\n",
      "37\n",
      "41\n",
      "43\n",
      "47\n"
     ]
    }
   ],
   "source": [
    "#ASSIGNMENT:2 QUESTION:1\n",
    "#Generate Prime Numbers from 2 to 50\n",
    "for num in range(2,51):\n",
    "   \n",
    "    value=True\n",
    "    \n",
    "    for i in range(2,num):\n",
    "        s=num%i\n",
    "        if s==0:\n",
    "            value=False\n",
    "            break\n",
    "    if value == True:\n",
    "        print(num)"
   ]
  },
  {
   "cell_type": "code",
   "execution_count": null,
   "id": "9aebcd92",
   "metadata": {},
   "outputs": [
    {
     "name": "stdout",
     "output_type": "stream",
     "text": [
      "Entered number: 1234 Reversed number: 4321\n",
      "Not Palindrome\n"
     ]
    }
   ],
   "source": [
    "#ASSIGNMENT:2 QUESTION:2\n",
    "#Check if a Number is a Palindrome using while loop\n",
    "num=int(input('Number to be checked='))\n",
    "num1=num\n",
    "newnum=0\n",
    "while num>0:\n",
    "    rem=num%10 #modulo division\n",
    "    num=num//10 #floor division\n",
    "    newnum=newnum*10+rem\n",
    "print (\"Entered number:\",num1,\"Reversed number:\",newnum)\n",
    "if num1==newnum:\n",
    "    print(\"palindrome\")\n",
    "else:\n",
    "    print(\"Not Palindrome\")"
   ]
  },
  {
   "cell_type": "code",
   "execution_count": null,
   "id": "79955d6b",
   "metadata": {},
   "outputs": [
    {
     "name": "stdout",
     "output_type": "stream",
     "text": [
      "Entered Number= 123456 \tReversed Number= 654321\n",
      "Not Palindrome\n"
     ]
    }
   ],
   "source": [
    "#ASSIGNMENT:2 QUESTION:2\n",
    "#Check if a Number is a Palindrome using for loop\n",
    "\n",
    "\n",
    "num=int(input('Number to be checked='))\n",
    "num1=num\n",
    "newnum=0\n",
    "for i in str(num):\n",
    "   \n",
    "    rem=num%10 #modulo division\n",
    "    num=num//10 #floor division\n",
    "    newnum=newnum*10+rem\n",
    "\n",
    "print(\"Entered Number=\",num1, \"\\tReversed Number=\",newnum)\n",
    "if num1==newnum:\n",
    "    print(\"palindrome\")\n",
    "else:\n",
    "    print(\"Not Palindrome\")\n"
   ]
  },
  {
   "cell_type": "code",
   "execution_count": null,
   "id": "4be8d097",
   "metadata": {},
   "outputs": [],
   "source": [
    "#ASSIGNMENT:2 QUESTION:3\n",
    "\n",
    "#String Frequency\n",
    "str1=input(\"Enter any string\")\n",
    "frestr=''\n",
    "for i in str1:\n",
    "    freq=0\n",
    "    for j in str1:\n",
    "        if i==j:\n",
    "            freq=freq+1\n",
    "    \n",
    "    if i not in frestr:\n",
    "        frestr=frestr+i\n",
    "        print(i,freq)\n"
   ]
  },
  {
   "cell_type": "code",
   "execution_count": null,
   "id": "8b378ed2",
   "metadata": {},
   "outputs": [
    {
     "name": "stdout",
     "output_type": "stream",
     "text": [
      "1 * 1 = 1\n",
      "1 * 2 = 2\n",
      "1 * 3 = 3\n",
      "1 * 4 = 4\n",
      "1 * 5 = 5\n",
      "1 * 6 = 6\n",
      "1 * 7 = 7\n",
      "1 * 8 = 8\n",
      "1 * 9 = 9\n",
      "1 * 10 = 10\n",
      "\t\n",
      "2 * 1 = 2\n",
      "2 * 2 = 4\n",
      "2 * 3 = 6\n",
      "2 * 4 = 8\n",
      "2 * 5 = 10\n",
      "2 * 6 = 12\n",
      "2 * 7 = 14\n",
      "2 * 8 = 16\n",
      "2 * 9 = 18\n",
      "2 * 10 = 20\n",
      "\t\n",
      "3 * 1 = 3\n",
      "3 * 2 = 6\n",
      "3 * 3 = 9\n",
      "3 * 4 = 12\n",
      "3 * 5 = 15\n",
      "3 * 6 = 18\n",
      "3 * 7 = 21\n",
      "3 * 8 = 24\n",
      "3 * 9 = 27\n",
      "3 * 10 = 30\n",
      "\t\n",
      "4 * 1 = 4\n",
      "4 * 2 = 8\n",
      "4 * 3 = 12\n",
      "4 * 4 = 16\n",
      "4 * 5 = 20\n",
      "4 * 6 = 24\n",
      "4 * 7 = 28\n",
      "4 * 8 = 32\n",
      "4 * 9 = 36\n",
      "4 * 10 = 40\n",
      "\t\n",
      "5 * 1 = 5\n",
      "5 * 2 = 10\n",
      "5 * 3 = 15\n",
      "5 * 4 = 20\n",
      "5 * 5 = 25\n",
      "5 * 6 = 30\n",
      "5 * 7 = 35\n",
      "5 * 8 = 40\n",
      "5 * 9 = 45\n",
      "5 * 10 = 50\n",
      "\t\n",
      "6 * 1 = 6\n",
      "6 * 2 = 12\n",
      "6 * 3 = 18\n",
      "6 * 4 = 24\n",
      "6 * 5 = 30\n",
      "6 * 6 = 36\n",
      "6 * 7 = 42\n",
      "6 * 8 = 48\n",
      "6 * 9 = 54\n",
      "6 * 10 = 60\n",
      "\t\n",
      "7 * 1 = 7\n",
      "7 * 2 = 14\n",
      "7 * 3 = 21\n",
      "7 * 4 = 28\n",
      "7 * 5 = 35\n",
      "7 * 6 = 42\n",
      "7 * 7 = 49\n",
      "7 * 8 = 56\n",
      "7 * 9 = 63\n",
      "7 * 10 = 70\n",
      "\t\n",
      "8 * 1 = 8\n",
      "8 * 2 = 16\n",
      "8 * 3 = 24\n",
      "8 * 4 = 32\n",
      "8 * 5 = 40\n",
      "8 * 6 = 48\n",
      "8 * 7 = 56\n",
      "8 * 8 = 64\n",
      "8 * 9 = 72\n",
      "8 * 10 = 80\n",
      "\t\n",
      "9 * 1 = 9\n",
      "9 * 2 = 18\n",
      "9 * 3 = 27\n",
      "9 * 4 = 36\n",
      "9 * 5 = 45\n",
      "9 * 6 = 54\n",
      "9 * 7 = 63\n",
      "9 * 8 = 72\n",
      "9 * 9 = 81\n",
      "9 * 10 = 90\n",
      "\t\n",
      "10 * 1 = 10\n",
      "10 * 2 = 20\n",
      "10 * 3 = 30\n",
      "10 * 4 = 40\n",
      "10 * 5 = 50\n",
      "10 * 6 = 60\n",
      "10 * 7 = 70\n",
      "10 * 8 = 80\n",
      "10 * 9 = 90\n",
      "10 * 10 = 100\n",
      "\t\n"
     ]
    }
   ],
   "source": [
    "#ASSIGNMENT:3 QUESTION:1\n",
    "\n",
    "#Number Table\n",
    "num1=int(input(\"Enter first number:\"))\n",
    "num2=int(input(\"Enter second number:\"))\n",
    "for i in range (num1,num2+1):\n",
    "    for j in range (num1,num2+1):\n",
    "        print(i,\"*\",j,\"=\",i*j)\n",
    "    print(\"\\t\")"
   ]
  },
  {
   "cell_type": "code",
   "execution_count": null,
   "id": "0442d628",
   "metadata": {},
   "outputs": [
    {
     "name": "stdout",
     "output_type": "stream",
     "text": [
      "Access denied. \n",
      " You have 2 chance(s) left!!!!\n",
      "Access denied. \n",
      " You have 1 chance(s) left!!!!\n",
      "Access Granted\n"
     ]
    }
   ],
   "source": [
    "#ASSIGNMENT:3 QUESTION:2\n",
    "\n",
    "#Password Checker\n",
    "list1=['apple','boat','cat']\n",
    "for j in range(3):\n",
    "    passwrd_entered=input(\"Enter the password:\")\n",
    "    if passwrd_entered in list1:\n",
    "        print(\"Access Granted\")\n",
    "        val=True\n",
    "        break\n",
    "    else:\n",
    "        val=False\n",
    "        print(\"Access denied. \\n You have\",2-j,\"chance(s) left!!!!\")\n",
    "      \n",
    "if val==False:\n",
    "    print(\"Too many wrong attempts. try after some time!!\")"
   ]
  },
  {
   "cell_type": "code",
   "execution_count": null,
   "id": "4707c77b",
   "metadata": {},
   "outputs": [
    {
     "name": "stdout",
     "output_type": "stream",
     "text": [
      "[3]\n",
      "[3, 4]\n",
      "[3, 4, 5]\n",
      "[3, 4, 5, 6]\n",
      "[3, 4, 5, 6, 77]\n",
      "User Input:[3, 4, 5, 6, 77] \n",
      "Even List:[4, 6] \n",
      "Odd List:[3, 5, 77]\n"
     ]
    }
   ],
   "source": [
    "#ASSIGNMENT:4 QUESTION:1\n",
    "\n",
    "#Even or Odd number filter. Write a program to take number input from the user and seperate the even and odd numbers.\n",
    "#USING LIST\n",
    "message=\"\"\n",
    "num_list=[]\n",
    "even=[]\n",
    "odd=[]\n",
    "while(message!='Q'):\n",
    "    message=input(\"Enter number to the list.(Type Q to quit):\")\n",
    "    if(message!='Q'):\n",
    "        message=int(message)\n",
    "        num_list.append(message)\n",
    "        if(message%2==0):\n",
    "            even.append(message)\n",
    "        else:\n",
    "            odd.append(message)\n",
    "        print(num_list)\n",
    "print(f\"User Input:{num_list} \\nEven List:{even} \\nOdd List:{odd}\")"
   ]
  },
  {
   "cell_type": "code",
   "execution_count": null,
   "id": "3159a7b7",
   "metadata": {},
   "outputs": [
    {
     "name": "stdout",
     "output_type": "stream",
     "text": [
      "Odd: 197\n",
      "Even: 28\n"
     ]
    }
   ],
   "source": [
    "#ASSIGNMENT:4 QUESTION:1\n",
    "\n",
    "#Even or Odd number filter. Write a program to take number input from the user and seperate the even and odd numbers.\n",
    "#wITHOUT USING LIST\n",
    "\n",
    "num=input('Number to be checked=')\n",
    "Even=''\n",
    "Odd=''\n",
    "for i in num:\n",
    "    if int(i) %2==0:\n",
    "        Even=Even+i\n",
    "    else:\n",
    "        Odd=Odd+i\n",
    "print(\"Odd:\",Odd)\n",
    "print(\"Even:\",Even)"
   ]
  },
  {
   "cell_type": "code",
   "execution_count": null,
   "id": "d513e25d",
   "metadata": {},
   "outputs": [
    {
     "name": "stdout",
     "output_type": "stream",
     "text": [
      "SUB1,SUB2,SUB3,Total 20 40 80 140\n",
      "SUB1,SUB2,SUB3,OVERALL GRADE ['C', 'C', 'A', 'C']\n",
      "SUB1,SUB2,SUB3,Total 50 67 78 195\n",
      "SUB1,SUB2,SUB3,OVERALL GRADE ['C', 'C', 'C', 'C']\n",
      "SUB1,SUB2,SUB3,Total 45 78 80 203\n",
      "SUB1,SUB2,SUB3,OVERALL GRADE ['C', 'C', 'A', 'C']\n",
      "Class Average for subject1:21.296296296296294\n",
      "Class Average for subject2:34.925925925925924\n",
      "Class Average for subject3:38.2962962962963\n"
     ]
    }
   ],
   "source": [
    "#ASSIGNMENT:4 QUESTION:2\n",
    "\n",
    "#Grade calculator. Take input from the user how many students are there in the class. \n",
    "#Then ask to enter the mark of each student and calcuate average of marks and overall grade\n",
    "\n",
    "n=int(input(\"Enter the number of students:\"))\n",
    "j=0\n",
    "sub1_avg=0\n",
    "sub2_avg=0\n",
    "sub3_avg=0\n",
    "while(j<n):\n",
    "    sub1=int(input(\"Enter mark for subject1:\"))\n",
    "    sub2=int(input(\"Enter mark for subject2:\"))\n",
    "    sub3=int(input(\"Enter mark for subject3:\"))\n",
    "    Total=sub1+sub2+sub3\n",
    "    sub1_avg=(sub1_avg+sub1)/n\n",
    "    sub2_avg=(sub2_avg+sub2)/n\n",
    "    sub3_avg=(sub3_avg+sub3)/n\n",
    "    grade_list=[]\n",
    "    for i in [sub1,sub2,sub3,Total/3]:\n",
    "        if(i>=80):\n",
    "            grade=\"A\"\n",
    "        elif(50<i>79):\n",
    "            grade=\"B\"\n",
    "        else:\n",
    "            grade=\"C\"\n",
    "        grade_list+=grade\n",
    "    print(\"SUB1,SUB2,SUB3,Total\",sub1,sub2,sub3,Total)\n",
    "    print(\"SUB1,SUB2,SUB3,OVERALL GRADE\",grade_list)\n",
    "    j=j+1\n",
    "print(f\"Class Average for subject1:{sub1_avg}\")\n",
    "print(f\"Class Average for subject2:{sub2_avg}\")\n",
    "print(f\"Class Average for subject3:{sub3_avg}\")"
   ]
  }
 ],
 "metadata": {
  "kernelspec": {
   "display_name": "Python 3",
   "language": "python",
   "name": "python3"
  },
  "language_info": {
   "codemirror_mode": {
    "name": "ipython",
    "version": 3
   },
   "file_extension": ".py",
   "mimetype": "text/x-python",
   "name": "python",
   "nbconvert_exporter": "python",
   "pygments_lexer": "ipython3",
   "version": "3.8.10"
  }
 },
 "nbformat": 4,
 "nbformat_minor": 5
}
